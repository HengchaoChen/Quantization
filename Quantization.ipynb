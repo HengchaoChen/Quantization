{
 "cells": [
  {
   "cell_type": "markdown",
   "metadata": {},
   "source": [
    "### Quantization"
   ]
  },
  {
   "cell_type": "markdown",
   "metadata": {},
   "source": [
    "##### 1 Dimensional Uniform Quantization"
   ]
  },
  {
   "cell_type": "markdown",
   "metadata": {},
   "source": [
    "Given a uniform quantization grid, we aim to find the quantized vector."
   ]
  },
  {
   "cell_type": "code",
   "execution_count": 16,
   "metadata": {},
   "outputs": [
    {
     "data": {
      "text/plain": [
       "tensor([6, 2, 5, 2, 5, 0, 3, 7, 5, 2], dtype=torch.int8)"
      ]
     },
     "execution_count": 16,
     "metadata": {},
     "output_type": "execute_result"
    }
   ],
   "source": [
    "import torch\n",
    "\n",
    "v = torch.tensor([3.2, -1.4, 2.5, -0.9, 1.8, -3.7, 0.0, 4.0, 2.2, -1.3])\n",
    "\n",
    "def quantization(v):\n",
    "    w = (v + 4) * 7 \n",
    "    a = w // 8\n",
    "    b = w % 8\n",
    "    b[b >= 4] = 1\n",
    "    b[b < 4] = 0\n",
    "    a += b\n",
    "    a[a >= 8] = 7\n",
    "    a[a < 0] = 0\n",
    "    return a.to(torch.int8)\n",
    "\n",
    "w = quantization(v) # quantized vector\n",
    "w"
   ]
  },
  {
   "cell_type": "markdown",
   "metadata": {},
   "source": [
    "##### 1 Dimensional Non-Uniform Quantization"
   ]
  },
  {
   "cell_type": "code",
   "execution_count": 17,
   "metadata": {},
   "outputs": [
    {
     "name": "stdout",
     "output_type": "stream",
     "text": [
      "tensor([6, 1, 6, 1, 5, 0, 3, 0, 6, 1], dtype=torch.int8)\n"
     ]
    }
   ],
   "source": [
    "from scipy.stats import norm\n",
    "\n",
    "# determine the 3 bit normal float grid [-1, 1] according to the paper QLoRA\n",
    "\n",
    "left = [0.98, 0.82, 0.66]\n",
    "right = [0.62, 0.74, 0.86, 0.98]\n",
    "grid = [0]\n",
    "grid = [- norm.ppf(p) for p in left] + [0] + [norm.ppf(p) for p in right]\n",
    "grid = torch.tensor(grid)\n",
    "grid /= torch.max(torch.abs(grid))\n",
    "\n",
    "def quantizer(v):\n",
    "\n",
    "    v /= torch.max(torch.abs(v))\n",
    "    w = torch.zeros_like(v)\n",
    "    for i in range(len(grid) - 1):\n",
    "        mask = (v >= grid[i]) & (v < grid[i + 1])\n",
    "        w[mask] = i\n",
    "    return w.to(torch.int8)\n",
    "\n",
    "print(quantizer(v))"
   ]
  }
 ],
 "metadata": {
  "kernelspec": {
   "display_name": "base",
   "language": "python",
   "name": "python3"
  },
  "language_info": {
   "codemirror_mode": {
    "name": "ipython",
    "version": 3
   },
   "file_extension": ".py",
   "mimetype": "text/x-python",
   "name": "python",
   "nbconvert_exporter": "python",
   "pygments_lexer": "ipython3",
   "version": "3.8.3"
  }
 },
 "nbformat": 4,
 "nbformat_minor": 2
}
